{
 "cells": [
  {
   "cell_type": "code",
   "execution_count": 1,
   "metadata": {},
   "outputs": [],
   "source": [
    "import pandas as pd"
   ]
  },
  {
   "cell_type": "code",
   "execution_count": 5,
   "metadata": {},
   "outputs": [],
   "source": [
    "na_vals = ['NA', 'Missing']\n",
    "df = pd.read_csv('data/survey_results_public.csv', index_col='Respondent', na_values=na_vals)\n",
    "schema_df = pd.read_csv('data/survey_results_schema.csv', index_col='Column')"
   ]
  },
  {
   "cell_type": "code",
   "execution_count": 3,
   "metadata": {},
   "outputs": [],
   "source": [
    "pd.set_option('display.max_columns', 85)\n",
    "pd.set_option('display.max_rows', 85)"
   ]
  },
  {
   "cell_type": "code",
   "execution_count": 4,
   "metadata": {
    "scrolled": true
   },
   "outputs": [
    {
     "data": {
      "text/html": [
       "<div>\n",
       "<style scoped>\n",
       "    .dataframe tbody tr th:only-of-type {\n",
       "        vertical-align: middle;\n",
       "    }\n",
       "\n",
       "    .dataframe tbody tr th {\n",
       "        vertical-align: top;\n",
       "    }\n",
       "\n",
       "    .dataframe thead th {\n",
       "        text-align: right;\n",
       "    }\n",
       "</style>\n",
       "<table border=\"1\" class=\"dataframe\">\n",
       "  <thead>\n",
       "    <tr style=\"text-align: right;\">\n",
       "      <th></th>\n",
       "      <th>MainBranch</th>\n",
       "      <th>Hobbyist</th>\n",
       "      <th>OpenSourcer</th>\n",
       "      <th>OpenSource</th>\n",
       "      <th>Employment</th>\n",
       "      <th>Country</th>\n",
       "      <th>Student</th>\n",
       "      <th>EdLevel</th>\n",
       "      <th>UndergradMajor</th>\n",
       "      <th>EduOther</th>\n",
       "      <th>OrgSize</th>\n",
       "      <th>DevType</th>\n",
       "      <th>YearsCode</th>\n",
       "      <th>Age1stCode</th>\n",
       "      <th>YearsCodePro</th>\n",
       "      <th>CareerSat</th>\n",
       "      <th>JobSat</th>\n",
       "      <th>MgrIdiot</th>\n",
       "      <th>MgrMoney</th>\n",
       "      <th>MgrWant</th>\n",
       "      <th>JobSeek</th>\n",
       "      <th>LastHireDate</th>\n",
       "      <th>LastInt</th>\n",
       "      <th>FizzBuzz</th>\n",
       "      <th>JobFactors</th>\n",
       "      <th>ResumeUpdate</th>\n",
       "      <th>CurrencySymbol</th>\n",
       "      <th>CurrencyDesc</th>\n",
       "      <th>CompTotal</th>\n",
       "      <th>CompFreq</th>\n",
       "      <th>ConvertedComp</th>\n",
       "      <th>WorkWeekHrs</th>\n",
       "      <th>WorkPlan</th>\n",
       "      <th>WorkChallenge</th>\n",
       "      <th>WorkRemote</th>\n",
       "      <th>WorkLoc</th>\n",
       "      <th>ImpSyn</th>\n",
       "      <th>CodeRev</th>\n",
       "      <th>CodeRevHrs</th>\n",
       "      <th>UnitTests</th>\n",
       "      <th>PurchaseHow</th>\n",
       "      <th>PurchaseWhat</th>\n",
       "      <th>LanguageWorkedWith</th>\n",
       "      <th>LanguageDesireNextYear</th>\n",
       "      <th>DatabaseWorkedWith</th>\n",
       "      <th>DatabaseDesireNextYear</th>\n",
       "      <th>PlatformWorkedWith</th>\n",
       "      <th>PlatformDesireNextYear</th>\n",
       "      <th>WebFrameWorkedWith</th>\n",
       "      <th>WebFrameDesireNextYear</th>\n",
       "      <th>MiscTechWorkedWith</th>\n",
       "      <th>MiscTechDesireNextYear</th>\n",
       "      <th>DevEnviron</th>\n",
       "      <th>OpSys</th>\n",
       "      <th>Containers</th>\n",
       "      <th>BlockchainOrg</th>\n",
       "      <th>BlockchainIs</th>\n",
       "      <th>BetterLife</th>\n",
       "      <th>ITperson</th>\n",
       "      <th>OffOn</th>\n",
       "      <th>SocialMedia</th>\n",
       "      <th>Extraversion</th>\n",
       "      <th>ScreenName</th>\n",
       "      <th>SOVisit1st</th>\n",
       "      <th>SOVisitFreq</th>\n",
       "      <th>SOVisitTo</th>\n",
       "      <th>SOFindAnswer</th>\n",
       "      <th>SOTimeSaved</th>\n",
       "      <th>SOHowMuchTime</th>\n",
       "      <th>SOAccount</th>\n",
       "      <th>SOPartFreq</th>\n",
       "      <th>SOJobs</th>\n",
       "      <th>EntTeams</th>\n",
       "      <th>SOComm</th>\n",
       "      <th>WelcomeChange</th>\n",
       "      <th>SONewContent</th>\n",
       "      <th>Age</th>\n",
       "      <th>Gender</th>\n",
       "      <th>Trans</th>\n",
       "      <th>Sexuality</th>\n",
       "      <th>Ethnicity</th>\n",
       "      <th>Dependents</th>\n",
       "      <th>SurveyLength</th>\n",
       "      <th>SurveyEase</th>\n",
       "    </tr>\n",
       "    <tr>\n",
        "      <th>Respondent</th>\n",

       "      <th></th>\n",

       "      <th></th>\n",

       "      <th></th>\n",

       "      <th></th>\n",

       "      <th></th>\n",

       "      <th></th>\n",

       "      <th></th>\n",

       "      <th></th>\n",

       "      <th></th>\n",

       "      <th></th>\n",

       "      <th></th>\n",

       "      <th></th>\n",

       "      <th></th>\n",

       "      <th></th>\n",

       "      <th></th>\n",

       "      <th></th>\n",

       "      <th></th>\n",

       "      <th></th>\n",

       "      <th></th>\n",

       "      <th></th>\n",

       "      <th></th>\n",

       "      <th></th>\n",

       "      <th></th>\n",

       "      <th></th>\n",

       "      <th></th>\n",

       "      <th></th>\n",

       "      <th></th>\n",

       "      <th></th>\n",

       "      <th></th>\n",

       "      <th></th>\n",

       "      <th></th>\n",

       "      <th></th>\n",

       "      <th></th>\n",

       "      <th></th>\n",

       "      <th></th>\n",

       "      <th></th>\n",

       "      <th></th>\n",

       "      <th></th>\n",

       "      <th></th>\n",

       "      <th></th>\n",

       "      <th></th>\n",

       "      <th></th>\n",

       "      <th></th>\n",

       "      <th></th>\n",

       "      <th></th>\n",

       "      <th></th>\n",

       "      <th></th>\n",

       "      <th></th>\n",

       "      <th></th>\n",

       "      <th></th>\n",

       "      <th></th>\n",

       "      <th></th>\n",

       "      <th></th>\n",

       "      <th></th>\n",

       "      <th></th>\n",

       "      <th></th>\n",

       "      <th></th>\n",

       "      <th></th>\n",

       "      <th></th>\n",

       "      <th></th>\n",

       "      <th></th>\n",

       "      <th></th>\n",

       "      <th></th>\n",

       "      <th></th>\n",

       "      <th></th>\n",

       "      <th></th>\n",

       "      <th></th>\n",

       "      <th></th>\n",

       "      <th></th>\n",

       "      <th></th>\n",

       "      <th></th>\n",

       "      <th></th>\n",

       "      <th></th>\n",

       "      <th></th>\n",

       "      <th></th>\n",

       "      <th></th>\n",

       "      <th></th>\n",

       "      <th></th>\n",

       "      <th></th>\n",

       "      <th></th>\n",

       "      <th></th>\n",

       "      <th></th>\n",

       "      <th></th>\n",

       "      <th></th>\n",

       "    </tr>\n",

       "  </thead>\n",

       "  <tbody>\n",

       "    <tr>\n",

       "      <th>1</th>\n",

       "      <td>I am a student who is learning to code</td>\n",

       "      <td>Yes</td>\n",

       "      <td>Never</td>\n",

       "      <td>The quality of OSS and closed source software ...</td>\n",

       "      <td>Not employed, and not looking for work</td>\n",

       "      <td>United Kingdom</td>\n",

       "      <td>No</td>\n",

       "      <td>Primary/elementary school</td>\n",

       "      <td>NaN</td>\n",

       "      <td>Taught yourself a new language, framework, or ...</td>\n",

       "      <td>NaN</td>\n",

       "      <td>NaN</td>\n",

       "      <td>4</td>\n",

       "      <td>10</td>\n",

       "      <td>NaN</td>\n",

       "      <td>NaN</td>\n",

       "      <td>NaN</td>\n",

       "      <td>NaN</td>\n",

       "      <td>NaN</td>\n",

       "      <td>NaN</td>\n",

       "      <td>NaN</td>\n",

       "      <td>NaN</td>\n",

       "      <td>NaN</td>\n",

       "      <td>NaN</td>\n",

       "      <td>NaN</td>\n",

       "      <td>NaN</td>\n",

       "      <td>NaN</td>\n",

       "      <td>NaN</td>\n",

       "      <td>NaN</td>\n",

       "      <td>NaN</td>\n",

       "      <td>NaN</td>\n",

       "      <td>NaN</td>\n",

       "      <td>NaN</td>\n",

       "      <td>NaN</td>\n",

       "      <td>NaN</td>\n",

       "      <td>NaN</td>\n",

       "      <td>NaN</td>\n",

       "      <td>NaN</td>\n",

       "      <td>NaN</td>\n",

       "      <td>NaN</td>\n",

       "      <td>NaN</td>\n",

       "      <td>NaN</td>\n",

       "      <td>HTML/CSS;Java;JavaScript;Python</td>\n",

       "      <td>C;C++;C#;Go;HTML/CSS;Java;JavaScript;Python;SQL</td>\n",

       "      <td>SQLite</td>\n",

       "      <td>MySQL</td>\n",

       "      <td>MacOS;Windows</td>\n",

       "      <td>Android;Arduino;Windows</td>\n",

       "      <td>Django;Flask</td>\n",

       "      <td>Flask;jQuery</td>\n",

       "      <td>Node.js</td>\n",

       "      <td>Node.js</td>\n",

       "      <td>IntelliJ;Notepad++;PyCharm</td>\n",

       "      <td>Windows</td>\n",

       "      <td>I do not use containers</td>\n",

       "      <td>NaN</td>\n",

       "      <td>NaN</td>\n",

       "      <td>Yes</td>\n",

       "      <td>Fortunately, someone else has that title</td>\n",

       "      <td>Yes</td>\n",

       "      <td>Twitter</td>\n",

       "      <td>Online</td>\n",

       "      <td>Username</td>\n",

       "      <td>2017</td>\n",

       "      <td>A few times per month or weekly</td>\n",

       "      <td>Find answers to specific questions;Learn how t...</td>\n",

       "      <td>3-5 times per week</td>\n",

       "      <td>Stack Overflow was much faster</td>\n",

       "      <td>31-60 minutes</td>\n",

       "      <td>No</td>\n",

       "      <td>NaN</td>\n",

       "      <td>No, I didn't know that Stack Overflow had a jo...</td>\n",

       "      <td>No, and I don't know what those are</td>\n",

       "      <td>Neutral</td>\n",

       "      <td>Just as welcome now as I felt last year</td>\n",

       "      <td>Tech articles written by other developers;Indu...</td>\n",
